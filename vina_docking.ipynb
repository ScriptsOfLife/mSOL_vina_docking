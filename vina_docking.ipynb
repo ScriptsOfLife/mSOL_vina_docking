{
 "cells": [
  {
   "cell_type": "code",
   "execution_count": null,
   "id": "80f6aa36",
   "metadata": {},
   "outputs": [],
   "source": [
    "import os\n",
    "from rdkit import Chem\n",
    "from rdkit.Chem import AllChem\n",
    "#import pybel\n",
    "import subprocess\n",
    "\n",
    "# Convert MOL to PDBQT with Open Babel using command line\n",
    "def convert_mol_to_pdbqt(input_path, output_path):\n",
    "    subprocess.run([\"obabel\", input_path, \"-O\", output_path, \"--partialcharge\", \"gasteiger\"])\n",
    "\n",
    "# Define paths\n",
    "ligand_directory = \"/home/ms/Documents/vina_docking/input_ligand\"  # Directory containing .sdf ligand files\n",
    "output_directory = \"/home/ms/Documents/vina_docking/output_docking\"    # Directory for prepared ligands and docking results\n",
    "config_path = \"/home/ms/Documents/vina_docking/conf.txt\"  # Vina configuration file path\n",
    "vina_path = \"/home/ms/Documents/vina_docking/vina\"     # config.txt file path\n",
    "\n",
    "# Ensure output directory exists\n",
    "os.makedirs(output_directory, exist_ok=True)\n",
    "\n",
    "# Loop over all .sdf ligand files in the directory\n",
    "for ligand_file in os.listdir(ligand_directory):\n",
    "    if ligand_file.endswith(\".sdf\"):\n",
    "        ligand_path = os.path.join(ligand_directory, ligand_file)\n",
    "        \n",
    "        # Read each molecule in the .sdf file (in case it contains multiple ligands)\n",
    "        suppl = Chem.SDMolSupplier(ligand_path)\n",
    "        for idx, mol in enumerate(suppl):\n",
    "            if mol is None:\n",
    "                continue  # Skip if there's an issue with the molecule\n",
    "\n",
    "            # Add hydrogens, generate 3D coordinates, and optimize\n",
    "            mol = Chem.AddHs(mol)\n",
    "            AllChem.EmbedMolecule(mol)\n",
    "            AllChem.UFFOptimizeMolecule(mol)\n",
    "\n",
    "            #Define paths and perform the conversion\n",
    "            mol_temp_path = os.path.join(output_directory, f\"{ligand_file.replace('.sdf', '')}_mol_{idx}.mol\")\n",
    "            Chem.MolToMolFile(mol, mol_temp_path)\n",
    "\n",
    "            # Use the function to convert the MOL file to PDBQT\n",
    "            ligand_prepared_path = mol_temp_path.replace(\".mol\", \".pdbqt\")\n",
    "            convert_mol_to_pdbqt(mol_temp_path, ligand_prepared_path)\n",
    "\n",
    "            # Define AutoDock Vina output file path\n",
    "            docking_output_path = ligand_prepared_path.replace(\".pdbqt\", \"_docked.pdbqt\")\n",
    "\n",
    "            # Run AutoDock Vina\n",
    "            \n",
    "            # Construct the vina command with the full path to the executable\n",
    "            vina_command = f\"{vina_path} --config {config_path} --ligand {ligand_prepared_path} --out {docking_output_path}\"\n",
    "            subprocess.run(vina_command, shell=True)\n",
    "\n",
    "            print(f\"Processed and docked ligand: {ligand_file}, molecule index: {idx}\")\n"
   ]
  }
 ],
 "metadata": {
  "kernelspec": {
   "display_name": "Python 3 (ipykernel)",
   "language": "python",
   "name": "python3"
  },
  "language_info": {
   "codemirror_mode": {
    "name": "ipython",
    "version": 3
   },
   "file_extension": ".py",
   "mimetype": "text/x-python",
   "name": "python",
   "nbconvert_exporter": "python",
   "pygments_lexer": "ipython3",
   "version": "3.11.9"
  }
 },
 "nbformat": 4,
 "nbformat_minor": 5
}
