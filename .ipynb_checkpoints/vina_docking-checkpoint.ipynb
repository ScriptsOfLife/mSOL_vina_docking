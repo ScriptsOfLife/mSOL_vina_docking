{
 "cells": [
  {
   "cell_type": "code",
   "execution_count": 1,
   "id": "786b1aec",
   "metadata": {},
   "outputs": [
    {
     "ename": "ModuleNotFoundError",
     "evalue": "No module named 'pybel'",
     "output_type": "error",
     "traceback": [
      "\u001b[0;31m---------------------------------------------------------------------------\u001b[0m",
      "\u001b[0;31mModuleNotFoundError\u001b[0m                       Traceback (most recent call last)",
      "\u001b[0;32m/tmp/ipykernel_31613/2187266323.py\u001b[0m in \u001b[0;36m<module>\u001b[0;34m\u001b[0m\n\u001b[1;32m      2\u001b[0m \u001b[0;32mfrom\u001b[0m \u001b[0mrdkit\u001b[0m \u001b[0;32mimport\u001b[0m \u001b[0mChem\u001b[0m\u001b[0;34m\u001b[0m\u001b[0;34m\u001b[0m\u001b[0m\n\u001b[1;32m      3\u001b[0m \u001b[0;32mfrom\u001b[0m \u001b[0mrdkit\u001b[0m\u001b[0;34m.\u001b[0m\u001b[0mChem\u001b[0m \u001b[0;32mimport\u001b[0m \u001b[0mAllChem\u001b[0m\u001b[0;34m\u001b[0m\u001b[0;34m\u001b[0m\u001b[0m\n\u001b[0;32m----> 4\u001b[0;31m \u001b[0;32mimport\u001b[0m \u001b[0mpybel\u001b[0m\u001b[0;34m\u001b[0m\u001b[0;34m\u001b[0m\u001b[0m\n\u001b[0m\u001b[1;32m      5\u001b[0m \u001b[0;32mimport\u001b[0m \u001b[0msubprocess\u001b[0m\u001b[0;34m\u001b[0m\u001b[0;34m\u001b[0m\u001b[0m\n\u001b[1;32m      6\u001b[0m \u001b[0;34m\u001b[0m\u001b[0m\n",
      "\u001b[0;31mModuleNotFoundError\u001b[0m: No module named 'pybel'"
     ]
    }
   ],
   "source": [
    "import os\n",
    "from rdkit import Chem\n",
    "from rdkit.Chem import AllChem\n",
    "import pybel\n",
    "import subprocess\n",
    "\n",
    "# Define paths\n",
    "ligand_directory = \"/6OIM_Ligand\"  # Directory containing .sdf ligand files\n",
    "output_directory = \"/6OIM_output\"    # Directory for prepared ligands and docking results\n",
    "\n",
    "# Ensure output directory exists\n",
    "os.makedirs(output_directory, exist_ok=True)\n",
    "\n",
    "# Loop over all .sdf ligand files in the directory\n",
    "for ligand_file in os.listdir(ligand_directory):\n",
    "    if ligand_file.endswith(\".sdf\"):\n",
    "        ligand_path = os.path.join(ligand_directory, ligand_file)\n",
    "        \n",
    "        # Read each molecule in the .sdf file (in case it contains multiple ligands)\n",
    "        suppl = Chem.SDMolSupplier(ligand_path)\n",
    "        for idx, mol in enumerate(suppl):\n",
    "            if mol is None:\n",
    "                continue  # Skip if there's an issue with the molecule\n",
    "\n",
    "            # Add hydrogens, generate 3D coordinates, and optimize\n",
    "            mol = Chem.AddHs(mol)\n",
    "            AllChem.EmbedMolecule(mol)\n",
    "            AllChem.UFFOptimizeMolecule(mol)\n",
    "\n",
    "            # Save to a temporary MOL file for Open Babel\n",
    "            mol_temp_path = os.path.join(output_directory, f\"{ligand_file.replace('.sdf', '')}_mol_{idx}.mol\")\n",
    "            Chem.MolToMolFile(mol, mol_temp_path)\n",
    "\n",
    "            # Convert MOL to PDBQT with Open Babel and add charges\n",
    "            ligand_prepared_path = mol_temp_path.replace(\".mol\", \".pdbqt\")\n",
    "            pybel.readfile(\"mol\", mol_temp_path).write(\"pdbqt\", ligand_prepared_path)\n",
    "\n",
    "            # Define AutoDock Vina output file path\n",
    "            docking_output_path = ligand_prepared_path.replace(\".pdbqt\", \"_docked.pdbqt\")\n",
    "\n",
    "            # Run AutoDock Vina\n",
    "            config_path = \"path/to/vina/config.txt\"  # Vina configuration file path\n",
    "            vina_command = f\"vina --config {config_path} --ligand {ligand_prepared_path} --out {docking_output_path}\"\n",
    "            subprocess.run(vina_command, shell=True)\n",
    "\n",
    "            print(f\"Processed and docked ligand: {ligand_file}, molecule index: {idx}\")\n"
   ]
  },
  {
   "cell_type": "code",
   "execution_count": 1,
   "id": "80f6aa36",
   "metadata": {},
   "outputs": [
    {
     "name": "stderr",
     "output_type": "stream",
     "text": [
      "1 molecule converted\n"
     ]
    },
    {
     "ename": "NameError",
     "evalue": "name 'vina_path' is not defined",
     "output_type": "error",
     "traceback": [
      "\u001b[0;31m---------------------------------------------------------------------------\u001b[0m",
      "\u001b[0;31mNameError\u001b[0m                                 Traceback (most recent call last)",
      "\u001b[0;32m/tmp/ipykernel_13697/1820496136.py\u001b[0m in \u001b[0;36m<module>\u001b[0;34m\u001b[0m\n\u001b[1;32m     48\u001b[0m             \u001b[0;31m#config_path = \"config.txt\"  # Vina configuration file path\u001b[0m\u001b[0;34m\u001b[0m\u001b[0;34m\u001b[0m\u001b[0;34m\u001b[0m\u001b[0m\n\u001b[1;32m     49\u001b[0m             \u001b[0;31m# Construct the vina command with the full path to the executable\u001b[0m\u001b[0;34m\u001b[0m\u001b[0;34m\u001b[0m\u001b[0;34m\u001b[0m\u001b[0m\n\u001b[0;32m---> 50\u001b[0;31m             \u001b[0mvina_command\u001b[0m \u001b[0;34m=\u001b[0m \u001b[0;34mf\"{vina_path} --config {config_path} --ligand {ligand_prepared_path} --out {docking_output_path}\"\u001b[0m\u001b[0;34m\u001b[0m\u001b[0;34m\u001b[0m\u001b[0m\n\u001b[0m\u001b[1;32m     51\u001b[0m             \u001b[0msubprocess\u001b[0m\u001b[0;34m.\u001b[0m\u001b[0mrun\u001b[0m\u001b[0;34m(\u001b[0m\u001b[0mvina_command\u001b[0m\u001b[0;34m,\u001b[0m \u001b[0mshell\u001b[0m\u001b[0;34m=\u001b[0m\u001b[0;32mTrue\u001b[0m\u001b[0;34m)\u001b[0m\u001b[0;34m\u001b[0m\u001b[0;34m\u001b[0m\u001b[0m\n\u001b[1;32m     52\u001b[0m \u001b[0;34m\u001b[0m\u001b[0m\n",
      "\u001b[0;31mNameError\u001b[0m: name 'vina_path' is not defined"
     ]
    }
   ],
   "source": [
    "import os\n",
    "from rdkit import Chem\n",
    "from rdkit.Chem import AllChem\n",
    "#import pybel\n",
    "import subprocess\n",
    "\n",
    "# Convert MOL to PDBQT with Open Babel using command line\n",
    "def convert_mol_to_pdbqt(input_path, output_path):\n",
    "    subprocess.run([\"obabel\", input_path, \"-O\", output_path, \"--partialcharge\", \"gasteiger\"])\n",
    "\n",
    "# Define paths\n",
    "ligand_directory = \"/home/ms/Documents/vina_docking/6OIM_ligand\"  # Directory containing .sdf ligand files\n",
    "output_directory = \"/home/ms/Documents/vina_docking/6OIM_output\"    # Directory for prepared ligands and docking results\n",
    "config_path = \"/home/ms/Documents/vina_docking/conf.txt\"  # Vina configuration file path\n",
    "#vina_path = \"/home/ms/Documents/CSJMU_nitin/data_bynitin/6OIM/vina\"     # config.txt file path\n",
    "\n",
    "# Ensure output directory exists\n",
    "os.makedirs(output_directory, exist_ok=True)\n",
    "\n",
    "# Loop over all .sdf ligand files in the directory\n",
    "for ligand_file in os.listdir(ligand_directory):\n",
    "    if ligand_file.endswith(\".sdf\"):\n",
    "        ligand_path = os.path.join(ligand_directory, ligand_file)\n",
    "        \n",
    "        # Read each molecule in the .sdf file (in case it contains multiple ligands)\n",
    "        suppl = Chem.SDMolSupplier(ligand_path)\n",
    "        for idx, mol in enumerate(suppl):\n",
    "            if mol is None:\n",
    "                continue  # Skip if there's an issue with the molecule\n",
    "\n",
    "            # Add hydrogens, generate 3D coordinates, and optimize\n",
    "            mol = Chem.AddHs(mol)\n",
    "            AllChem.EmbedMolecule(mol)\n",
    "            AllChem.UFFOptimizeMolecule(mol)\n",
    "\n",
    "            #Define paths and perform the conversion\n",
    "            mol_temp_path = os.path.join(output_directory, f\"{ligand_file.replace('.sdf', '')}_mol_{idx}.mol\")\n",
    "            Chem.MolToMolFile(mol, mol_temp_path)\n",
    "\n",
    "            # Use the function to convert the MOL file to PDBQT\n",
    "            ligand_prepared_path = mol_temp_path.replace(\".mol\", \".pdbqt\")\n",
    "            convert_mol_to_pdbqt(mol_temp_path, ligand_prepared_path)\n",
    "\n",
    "            # Define AutoDock Vina output file path\n",
    "            docking_output_path = ligand_prepared_path.replace(\".pdbqt\", \"_docked.pdbqt\")\n",
    "\n",
    "            # Run AutoDock Vina\n",
    "            #config_path = \"config.txt\"  # Vina configuration file path\n",
    "            # Construct the vina command with the full path to the executable\n",
    "            vina_command = f\"{vina_path} --config {config_path} --ligand {ligand_prepared_path} --out {docking_output_path}\"\n",
    "            subprocess.run(vina_command, shell=True)\n",
    "\n",
    "            print(f\"Processed and docked ligand: {ligand_file}, molecule index: {idx}\")\n"
   ]
  },
  {
   "cell_type": "code",
   "execution_count": 4,
   "id": "3d7da104",
   "metadata": {},
   "outputs": [
    {
     "name": "stdout",
     "output_type": "stream",
     "text": [
      "Write test successful.\n"
     ]
    }
   ],
   "source": [
    "output_directory = \"/home/ms/Documents/CSJMU_nitin/data_bynitin/6OIM/6OIM_output\"\n",
    "\n",
    "try:\n",
    "    with open(f\"{output_directory}/test_write.txt\", \"w\") as f:\n",
    "        f.write(\"This is a test to check write permissions.\")\n",
    "    print(\"Write test successful.\")\n",
    "except PermissionError as e:\n",
    "    print(f\"PermissionError: {e}\")"
   ]
  },
  {
   "cell_type": "code",
   "execution_count": null,
   "id": "429c66dd",
   "metadata": {},
   "outputs": [],
   "source": []
  }
 ],
 "metadata": {
  "kernelspec": {
   "display_name": "Python 3 (ipykernel)",
   "language": "python",
   "name": "python3"
  },
  "language_info": {
   "codemirror_mode": {
    "name": "ipython",
    "version": 3
   },
   "file_extension": ".py",
   "mimetype": "text/x-python",
   "name": "python",
   "nbconvert_exporter": "python",
   "pygments_lexer": "ipython3",
   "version": "3.7.12"
  }
 },
 "nbformat": 4,
 "nbformat_minor": 5
}
